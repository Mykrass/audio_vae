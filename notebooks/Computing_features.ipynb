{
 "cells": [
  {
   "cell_type": "code",
   "execution_count": 1,
   "metadata": {},
   "outputs": [],
   "source": [
    "%matplotlib inline"
   ]
  },
  {
   "cell_type": "code",
   "execution_count": 1,
   "metadata": {},
   "outputs": [],
   "source": [
    "import os\n",
    "\n",
    "import numpy as np\n",
    "import matplotlib.pyplot as plt\n",
    "\n",
    "from scipy import signal\n",
    "from scipy.io import wavfile"
   ]
  },
  {
   "cell_type": "code",
   "execution_count": 2,
   "metadata": {},
   "outputs": [],
   "source": [
    "train_dataset_path = '/home/ds/DataScience/Datasets/LibriSpeech/LibriSpeech/train-clean-wav/'\n",
    "test_dataset_path = '/home/ds/DataScience/Datasets/LibriSpeech/LibriSpeech/test-clean-wav/'\n",
    "train_features_path = '/home/ds/DataScience/Datasets/LibriSpeech/VAELibriSpeech/train-clean-wav/'\n",
    "test_features_path = '/home/ds/DataScience/Datasets/LibriSpeech/VAELibriSpeech/test-clean-wav/'"
   ]
  },
  {
   "cell_type": "code",
   "execution_count": 3,
   "metadata": {},
   "outputs": [],
   "source": [
    "def generate_VAE_features(dataset_path, features_path):\n",
    "    for filename in os.listdir(dataset_path):\n",
    "        sample_rate, samples = wavfile.read(os.path.join(dataset_path, filename))\n",
    "        frequencies, times, spectrogram = signal.spectrogram(samples, sample_rate)\n",
    "        new_features = np.zeros((times.shape[0], frequencies.shape[0], 3))\n",
    "        for i, time in enumerate(times):\n",
    "            if i == 0:\n",
    "                chunk = np.hstack((np.zeros((frequencies.shape[0], 1)), spectrogram[:, i:i+2]))\n",
    "            elif time == times[-1]:\n",
    "                chunk = np.hstack((spectrogram[:, i-1:i+1], np.zeros((frequencies.shape[0], 1))))\n",
    "            else:\n",
    "                chunk = spectrogram[:, i-1:i+2]\n",
    "            new_features[i] = chunk\n",
    "        new_features.dump(os.path.join(features_path, filename[:-4]))"
   ]
  },
  {
   "cell_type": "code",
   "execution_count": 4,
   "metadata": {},
   "outputs": [],
   "source": [
    "generate_VAE_features(train_dataset_path, train_features_path)"
   ]
  },
  {
   "cell_type": "code",
   "execution_count": 5,
   "metadata": {},
   "outputs": [],
   "source": [
    "generate_VAE_features(test_dataset_path, test_features_path)"
   ]
  },
  {
   "cell_type": "code",
   "execution_count": null,
   "metadata": {},
   "outputs": [],
   "source": []
  }
 ],
 "metadata": {
  "kernelspec": {
   "display_name": "Audio VAE",
   "language": "python",
   "name": "audio_ae_env"
  },
  "language_info": {
   "codemirror_mode": {
    "name": "ipython",
    "version": 3
   },
   "file_extension": ".py",
   "mimetype": "text/x-python",
   "name": "python",
   "nbconvert_exporter": "python",
   "pygments_lexer": "ipython3",
   "version": "3.6.8"
  }
 },
 "nbformat": 4,
 "nbformat_minor": 2
}
